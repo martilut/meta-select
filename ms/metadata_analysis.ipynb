{
 "cells": [
  {
   "metadata": {},
   "cell_type": "markdown",
   "source": [
    "Meta-Select Basic Usage Example\n",
    "\n",
    "This notebook shows a simple example of how to use the Meta-Select package to:\n",
    "1. Load features and meta-targets\n",
    "2. Run a single meta-feature selector\n",
    "3. Train a single meta-model using the selected features"
   ],
   "id": "2895ca46519b5913"
  },
  {
   "cell_type": "code",
   "id": "initial_id",
   "metadata": {
    "collapsed": true,
    "ExecuteTime": {
     "end_time": "2025-05-16T16:38:39.579257Z",
     "start_time": "2025-05-16T16:38:39.558656Z"
    }
   },
   "source": [
    "import random\n",
    "import numpy as np\n",
    "import pandas as pd\n",
    "\n",
    "from ms.config.experiment_config import ExperimentConfig\n",
    "from ms.selection.selector import Selector\n",
    "from ms.metalearning.meta_model import MetaModel\n",
    "from ms.pipeline.runner import run_selector\n",
    "from ms.processing.split import split_k_fold\n",
    "from ms.utils.navigation import pjoin, get_file_name"
   ],
   "outputs": [],
   "execution_count": 14
  },
  {
   "metadata": {
    "ExecuteTime": {
     "end_time": "2025-05-16T16:38:39.782918Z",
     "start_time": "2025-05-16T16:38:39.773915Z"
    }
   },
   "cell_type": "code",
   "source": [
    "# Set random seed for reproducibility\n",
    "np.random.seed(ExperimentConfig.SEED)\n",
    "random.seed(ExperimentConfig.SEED)"
   ],
   "id": "a9c73b794b2416af",
   "outputs": [],
   "execution_count": 15
  },
  {
   "metadata": {
    "ExecuteTime": {
     "end_time": "2025-05-16T16:38:40.093155Z",
     "start_time": "2025-05-16T16:38:40.041146Z"
    }
   },
   "cell_type": "code",
   "source": [
    "source = \"tabzilla\"\n",
    "feature_suffix = None\n",
    "metrics_suffix = \"raw\" # regression task\n",
    "\n",
    "features_path = pjoin(\n",
    "    ExperimentConfig.CONF.resources_path,\n",
    "    source,\n",
    "    \"filtered\",\n",
    "    f\"{get_file_name(prefix='features', suffix=feature_suffix)}.csv\",\n",
    ")\n",
    "\n",
    "metrics_path = pjoin(\n",
    "    ExperimentConfig.CONF.resources_path,\n",
    "    source,\n",
    "    \"target\",\n",
    "    f\"{get_file_name(prefix='metrics', suffix=metrics_suffix)}.csv\",\n",
    ")\n",
    "\n",
    "features, metrics = ExperimentConfig.get_data(\n",
    "    features_path=features_path,\n",
    "    metrics_path=metrics_path,\n",
    ")"
   ],
   "id": "9fd931cfd9671cf8",
   "outputs": [],
   "execution_count": 16
  },
  {
   "metadata": {
    "ExecuteTime": {
     "end_time": "2025-05-16T16:38:46.122448Z",
     "start_time": "2025-05-16T16:38:46.105451Z"
    }
   },
   "cell_type": "code",
   "source": [
    "target_name = metrics.columns[0]\n",
    "target = metrics.loc[:, target_name].to_frame()"
   ],
   "id": "7f208c4aa1f21292",
   "outputs": [],
   "execution_count": 17
  },
  {
   "metadata": {
    "ExecuteTime": {
     "end_time": "2025-05-16T16:38:53.085184Z",
     "start_time": "2025-05-16T16:38:53.064134Z"
    }
   },
   "cell_type": "code",
   "source": [
    "selector: Selector = ExperimentConfig.CORR\n",
    "\n",
    "model: MetaModel = ExperimentConfig.KNN_REG"
   ],
   "id": "17ebe0bf72f97677",
   "outputs": [],
   "execution_count": 19
  },
  {
   "metadata": {
    "ExecuteTime": {
     "end_time": "2025-05-16T16:38:57.500739Z",
     "start_time": "2025-05-16T16:38:57.467445Z"
    }
   },
   "cell_type": "code",
   "source": [
    "split = split_k_fold(\n",
    "    x_df=features,\n",
    "    y_df=target,\n",
    "    outer_k=ExperimentConfig.OUTER_K,\n",
    "    inner_k=ExperimentConfig.INNER_K,\n",
    "    shuffle=True,\n",
    "    seed=ExperimentConfig.SEED,\n",
    ")"
   ],
   "id": "ffa729864a3064a0",
   "outputs": [],
   "execution_count": 20
  },
  {
   "metadata": {
    "ExecuteTime": {
     "end_time": "2025-05-16T16:39:03.965775Z",
     "start_time": "2025-05-16T16:39:02.438374Z"
    }
   },
   "cell_type": "code",
   "source": [
    "selector_results = run_selector(\n",
    "    selector=selector,\n",
    "    features=features,\n",
    "    metrics=target,\n",
    "    split=split,\n",
    "    preprocessor=ExperimentConfig.PREPROCESSOR,\n",
    "    k_best=None,\n",
    "    save_path=None,  # Not saving in this example\n",
    ")"
   ],
   "id": "3262db0860e4e95f",
   "outputs": [
    {
     "name": "stdout",
     "output_type": "stream",
     "text": [
      "Split 0, x_train: (96, 118), x_test: (25, 118), y_train: (96, 1), y_test: (25, 1), y type: reg, has inner_split: True\n",
      "Split 1, x_train: (97, 118), x_test: (24, 118), y_train: (97, 1), y_test: (24, 1), y type: reg, has inner_split: True\n",
      "Split 2, x_train: (97, 118), x_test: (24, 118), y_train: (97, 1), y_test: (24, 1), y type: reg, has inner_split: True\n",
      "Split 3, x_train: (97, 118), x_test: (24, 118), y_train: (97, 1), y_test: (24, 1), y type: reg, has inner_split: True\n",
      "Split 4, x_train: (97, 118), x_test: (24, 118), y_train: (97, 1), y_test: (24, 1), y type: reg, has inner_split: True\n"
     ]
    }
   ],
   "execution_count": 21
  },
  {
   "metadata": {
    "ExecuteTime": {
     "end_time": "2025-05-16T16:39:18.853828Z",
     "start_time": "2025-05-16T16:39:18.836190Z"
    }
   },
   "cell_type": "code",
   "source": "selector_results # selected features per fold",
   "id": "7039db9ed203dd4",
   "outputs": [
    {
     "data": {
      "text/plain": [
       "{0: ['f__pymfe.model-based.nodes_per_inst',\n",
       "  'f__pymfe.landmarking.naive_bayes.min',\n",
       "  'f__pymfe.landmarking.naive_bayes.mean',\n",
       "  'f__pymfe.statistical.can_cor.min',\n",
       "  'f__pymfe.landmarking.one_nn.mean',\n",
       "  'f__pymfe.model-based.leaves_corrob.max',\n",
       "  'f__pymfe.landmarking.linear_discr.mean',\n",
       "  'f__pymfe.statistical.can_cor.mean',\n",
       "  'f__pymfe.model-based.nodes_per_attr',\n",
       "  'f__pymfe.general.nr_inst',\n",
       "  'f__pymfe.general.nr_attr',\n",
       "  'f__pymfe.model-based.var_importance.min',\n",
       "  'f__pymfe.model-based.nodes',\n",
       "  'f__pymfe.model-based.tree_depth.mean',\n",
       "  'f__pymfe.statistical.g_mean.mean',\n",
       "  'f__pymfe.info-theory.class_ent',\n",
       "  'f__pymfe.model-based.nodes_repeated.skewness',\n",
       "  'f__pymfe.general.freq_class.sd',\n",
       "  'f__pymfe.model-based.tree_imbalance.max'],\n",
       " 1: ['f__pymfe.model-based.nodes_per_inst',\n",
       "  'f__pymfe.landmarking.naive_bayes.min',\n",
       "  'f__pymfe.landmarking.naive_bayes.mean',\n",
       "  'f__pymfe.statistical.can_cor.min',\n",
       "  'f__pymfe.landmarking.one_nn.mean',\n",
       "  'f__pymfe.model-based.leaves_corrob.max',\n",
       "  'f__pymfe.landmarking.linear_discr.mean',\n",
       "  'f__pymfe.statistical.can_cor.mean',\n",
       "  'f__pymfe.model-based.nodes_per_attr',\n",
       "  'f__pymfe.general.nr_inst',\n",
       "  'f__pymfe.general.nr_attr',\n",
       "  'f__pymfe.model-based.var_importance.min',\n",
       "  'f__pymfe.statistical.g_mean.mean',\n",
       "  'f__pymfe.info-theory.class_ent',\n",
       "  'f__pymfe.model-based.nodes_repeated.skewness',\n",
       "  'f__pymfe.general.freq_class.sd',\n",
       "  'f__pymfe.landmarking.elite_nn.mean',\n",
       "  'f__pymfe.statistical.eigenvalues.kurtosis',\n",
       "  'f__pymfe.landmarking.random_node.min',\n",
       "  'f__pymfe.landmarking.best_node.mean',\n",
       "  'f__pymfe.model-based.nodes_repeated.kurtosis',\n",
       "  'f__pymfe.statistical.kurtosis.skewness',\n",
       "  'f__pymfe.statistical.skewness.skewness',\n",
       "  'f__pymfe.landmarking.worst_node.mean',\n",
       "  'f__pymfe.statistical.kurtosis.kurtosis',\n",
       "  'f__pymfe.general.nr_class',\n",
       "  'f__pymfe.model-based.var_importance.max',\n",
       "  'f__pymfe.model-based.leaves_per_class.max'],\n",
       " 2: ['f__pymfe.model-based.nodes_per_inst',\n",
       "  'f__pymfe.landmarking.naive_bayes.min',\n",
       "  'f__pymfe.landmarking.naive_bayes.mean',\n",
       "  'f__pymfe.statistical.can_cor.min',\n",
       "  'f__pymfe.landmarking.one_nn.mean',\n",
       "  'f__pymfe.model-based.leaves_corrob.max',\n",
       "  'f__pymfe.landmarking.linear_discr.mean',\n",
       "  'f__pymfe.statistical.can_cor.mean',\n",
       "  'f__pymfe.model-based.nodes_per_attr',\n",
       "  'f__pymfe.general.nr_inst',\n",
       "  'f__pymfe.info-theory.class_ent',\n",
       "  'f__pymfe.landmarking.elite_nn.mean',\n",
       "  'f__pymfe.landmarking.random_node.min',\n",
       "  'f__pymfe.landmarking.best_node.mean',\n",
       "  'f__pymfe.model-based.var_importance.max',\n",
       "  'f__pymfe.landmarking.one_nn.skewness',\n",
       "  'f__pymfe.landmarking.linear_discr.skewness',\n",
       "  'f__pymfe.landmarking.elite_nn.skewness',\n",
       "  'f__pymfe.general.attr_to_inst'],\n",
       " 3: ['f__pymfe.model-based.nodes_per_inst',\n",
       "  'f__pymfe.landmarking.naive_bayes.min',\n",
       "  'f__pymfe.landmarking.naive_bayes.mean',\n",
       "  'f__pymfe.statistical.can_cor.min',\n",
       "  'f__pymfe.landmarking.one_nn.mean',\n",
       "  'f__pymfe.model-based.leaves_corrob.max',\n",
       "  'f__pymfe.landmarking.linear_discr.mean',\n",
       "  'f__pymfe.statistical.can_cor.mean',\n",
       "  'f__pymfe.model-based.nodes_per_attr',\n",
       "  'f__pymfe.general.nr_inst',\n",
       "  'f__pymfe.statistical.eigenvalues.kurtosis',\n",
       "  'f__pymfe.landmarking.one_nn.skewness',\n",
       "  'f__pymfe.statistical.w_lambda',\n",
       "  'f__pymfe.statistical.roy_root',\n",
       "  'f__pymfe.landmarking.worst_node.skewness'],\n",
       " 4: ['f__pymfe.model-based.nodes_per_inst',\n",
       "  'f__pymfe.landmarking.naive_bayes.min',\n",
       "  'f__pymfe.landmarking.naive_bayes.mean',\n",
       "  'f__pymfe.statistical.can_cor.min',\n",
       "  'f__pymfe.landmarking.one_nn.mean',\n",
       "  'f__pymfe.model-based.leaves_corrob.max',\n",
       "  'f__pymfe.landmarking.linear_discr.mean',\n",
       "  'f__pymfe.statistical.can_cor.mean',\n",
       "  'f__pymfe.model-based.nodes_per_attr',\n",
       "  'f__pymfe.general.nr_inst',\n",
       "  'f__pymfe.model-based.var_importance.min',\n",
       "  'f__pymfe.landmarking.elite_nn.mean',\n",
       "  'f__pymfe.statistical.eigenvalues.kurtosis',\n",
       "  'f__pymfe.landmarking.random_node.min',\n",
       "  'f__pymfe.landmarking.one_nn.skewness',\n",
       "  'f__pymfe.landmarking.linear_discr.skewness',\n",
       "  'f__pymfe.statistical.w_lambda',\n",
       "  'f__pymfe.statistical.min.mean',\n",
       "  'f__pymfe.landmarking.worst_node.kurtosis',\n",
       "  'f__pymfe.general.nr_cat',\n",
       "  'f__pymfe.statistical.sparsity.sd']}"
      ]
     },
     "execution_count": 22,
     "metadata": {},
     "output_type": "execute_result"
    }
   ],
   "execution_count": 22
  },
  {
   "metadata": {},
   "cell_type": "code",
   "source": [
    "res = model.run(\n",
    "    x=features,\n",
    "    y=target,\n",
    "    split=split,\n",
    "    opt_scoring=ExperimentConfig.OPT_SCORING_REG,\n",
    "    model_scoring=ExperimentConfig.MODEL_SCORING_REG,\n",
    "    n_trials=10,  # Number of optimization trials\n",
    "    preprocessor=ExperimentConfig.PREPROCESSOR,\n",
    "    subset=selector_results, # selected features per fold\n",
    "    save_path=None,  # Not saving in this example\n",
    ")"
   ],
   "id": "7896c80202390e32",
   "outputs": [],
   "execution_count": null
  },
  {
   "metadata": {
    "ExecuteTime": {
     "end_time": "2025-05-16T16:40:39.087156Z",
     "start_time": "2025-05-16T16:40:39.066155Z"
    }
   },
   "cell_type": "code",
   "source": "res",
   "id": "ec1c3802da89572e",
   "outputs": [
    {
     "data": {
      "text/plain": [
       "       train_0    test_0   train_1    test_1   train_2    test_2   train_3  \\\n",
       "mae   0.087048   0.07203  0.098855  0.076991  0.085523  0.122128   0.00045   \n",
       "rmse   0.12819  0.110265  0.138085  0.085375  0.116711  0.170926  0.003132   \n",
       "r2    0.308848  0.415263  0.288303 -1.608312  0.328891   0.15778  0.999597   \n",
       "\n",
       "        test_3   train_4    test_4  \n",
       "mae   0.082254  0.082688  0.138686  \n",
       "rmse  0.118009  0.115043  0.169165  \n",
       "r2     0.17251  0.345423  0.158309  "
      ],
      "text/html": [
       "<div>\n",
       "<style scoped>\n",
       "    .dataframe tbody tr th:only-of-type {\n",
       "        vertical-align: middle;\n",
       "    }\n",
       "\n",
       "    .dataframe tbody tr th {\n",
       "        vertical-align: top;\n",
       "    }\n",
       "\n",
       "    .dataframe thead th {\n",
       "        text-align: right;\n",
       "    }\n",
       "</style>\n",
       "<table border=\"1\" class=\"dataframe\">\n",
       "  <thead>\n",
       "    <tr style=\"text-align: right;\">\n",
       "      <th></th>\n",
       "      <th>train_0</th>\n",
       "      <th>test_0</th>\n",
       "      <th>train_1</th>\n",
       "      <th>test_1</th>\n",
       "      <th>train_2</th>\n",
       "      <th>test_2</th>\n",
       "      <th>train_3</th>\n",
       "      <th>test_3</th>\n",
       "      <th>train_4</th>\n",
       "      <th>test_4</th>\n",
       "    </tr>\n",
       "  </thead>\n",
       "  <tbody>\n",
       "    <tr>\n",
       "      <th>mae</th>\n",
       "      <td>0.087048</td>\n",
       "      <td>0.07203</td>\n",
       "      <td>0.098855</td>\n",
       "      <td>0.076991</td>\n",
       "      <td>0.085523</td>\n",
       "      <td>0.122128</td>\n",
       "      <td>0.00045</td>\n",
       "      <td>0.082254</td>\n",
       "      <td>0.082688</td>\n",
       "      <td>0.138686</td>\n",
       "    </tr>\n",
       "    <tr>\n",
       "      <th>rmse</th>\n",
       "      <td>0.12819</td>\n",
       "      <td>0.110265</td>\n",
       "      <td>0.138085</td>\n",
       "      <td>0.085375</td>\n",
       "      <td>0.116711</td>\n",
       "      <td>0.170926</td>\n",
       "      <td>0.003132</td>\n",
       "      <td>0.118009</td>\n",
       "      <td>0.115043</td>\n",
       "      <td>0.169165</td>\n",
       "    </tr>\n",
       "    <tr>\n",
       "      <th>r2</th>\n",
       "      <td>0.308848</td>\n",
       "      <td>0.415263</td>\n",
       "      <td>0.288303</td>\n",
       "      <td>-1.608312</td>\n",
       "      <td>0.328891</td>\n",
       "      <td>0.15778</td>\n",
       "      <td>0.999597</td>\n",
       "      <td>0.17251</td>\n",
       "      <td>0.345423</td>\n",
       "      <td>0.158309</td>\n",
       "    </tr>\n",
       "  </tbody>\n",
       "</table>\n",
       "</div>"
      ]
     },
     "execution_count": 26,
     "metadata": {},
     "output_type": "execute_result"
    }
   ],
   "execution_count": 26
  }
 ],
 "metadata": {
  "kernelspec": {
   "display_name": "Python 3",
   "language": "python",
   "name": "python3"
  },
  "language_info": {
   "codemirror_mode": {
    "name": "ipython",
    "version": 2
   },
   "file_extension": ".py",
   "mimetype": "text/x-python",
   "name": "python",
   "nbconvert_exporter": "python",
   "pygments_lexer": "ipython2",
   "version": "2.7.6"
  }
 },
 "nbformat": 4,
 "nbformat_minor": 5
}
