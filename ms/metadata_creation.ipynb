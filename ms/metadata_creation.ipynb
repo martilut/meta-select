{
 "cells": [
  {
   "metadata": {},
   "cell_type": "markdown",
   "source": [
    "1. Download files from here: https://drive.google.com/drive/folders/1LR-ftaIeV6_KJvVz8q-xbodA-oXtJuvV?usp=sharing\n",
    "2. Place features.csv and metrics.csv to the following path from project root: resources/tabzilla/raw\n",
    "3. Run this notebook"
   ],
   "id": "a3f2312e5cbd23ca"
  },
  {
   "metadata": {
    "ExecuteTime": {
     "end_time": "2025-05-16T13:55:27.741155Z",
     "start_time": "2025-05-16T13:55:25.857560Z"
    }
   },
   "cell_type": "code",
   "source": [
    "from ms.metadataset.data_source import TabzillaSource\n",
    "from ms.metadataset.data_formatter import TabzillaFormatter\n",
    "from ms.metadataset.data_filter import TabzillaFilter\n",
    "from ms.metadataset.target_builder import TargetPerfBuilder, TargetDiffBuilder, TargetRawBuilder"
   ],
   "id": "3965f1139e6d7fc8",
   "outputs": [],
   "execution_count": 1
  },
  {
   "metadata": {
    "ExecuteTime": {
     "end_time": "2025-05-16T13:55:27.770815Z",
     "start_time": "2025-05-16T13:55:27.758155Z"
    }
   },
   "cell_type": "code",
   "source": [
    "from ms.metadataset.model_type import ModelType\n",
    "\n",
    "md_source = TabzillaSource()\n",
    "metric_name = \"F1__test\"\n",
    "to_rewrite = True"
   ],
   "id": "cadc4cb67705ae65",
   "outputs": [],
   "execution_count": 2
  },
  {
   "metadata": {},
   "cell_type": "markdown",
   "source": [
    "Formatter handles raw TabZilla files performing fold values aggregation and metrics formatting.\n",
    "\n",
    "Formatted files will be saved here: resources/tabzilla/formatted"
   ],
   "id": "58d73a5c24b5a7b2"
  },
  {
   "metadata": {
    "ExecuteTime": {
     "end_time": "2025-05-16T13:55:27.914828Z",
     "start_time": "2025-05-16T13:55:27.780821Z"
    }
   },
   "cell_type": "code",
   "source": [
    "formatter = TabzillaFormatter(\n",
    "    features_folder=\"raw\",\n",
    "    metrics_folder=\"raw\",\n",
    "    test_mode=False,\n",
    "    agg_func_features=\"mean\",\n",
    "    agg_func_metrics=\"mean\",\n",
    "    round_attrs=[\n",
    "        \"f__pymfe.general.nr_inst\",\n",
    "        \"f__pymfe.general.nr_attr\",\n",
    "        \"f__pymfe.general.nr_bin\",\n",
    "        \"f__pymfe.general.nr_cat\",\n",
    "        \"f__pymfe.general.nr_num\",\n",
    "        \"f__pymfe.general.nr_class\",\n",
    "    ],\n",
    "    filter_families=None,\n",
    "    )\n",
    "formatted_features = formatter.handle_features(to_rewrite=to_rewrite)\n",
    "formatted_metrics = formatter.handle_metrics(to_rewrite=to_rewrite)\n",
    "print(formatted_features.shape)\n",
    "print(formatted_metrics.shape)"
   ],
   "id": "ec231db2ec5e88ca",
   "outputs": [
    {
     "name": "stdout",
     "output_type": "stream",
     "text": [
      "File D:\\python_projects\\meta-select\\resources\\tabzilla\\formatted\\features.csv already exists. Skipping...\n",
      "File D:\\python_projects\\meta-select\\resources\\tabzilla\\formatted\\metrics.csv already exists. Skipping...\n",
      "(176, 1605)\n",
      "(3246, 19)\n"
     ]
    }
   ],
   "execution_count": 3
  },
  {
   "metadata": {
    "ExecuteTime": {
     "end_time": "2025-05-16T13:55:28.609364Z",
     "start_time": "2025-05-16T13:55:28.595757Z"
    }
   },
   "cell_type": "code",
   "source": [
    "models = {\n",
    "    \"DecisionTree\": ModelType.baseline,\n",
    "    \"KNN\": ModelType.baseline,\n",
    "    \"LinearModel\": ModelType.baseline,\n",
    "    \"RandomForest\": ModelType.baseline,\n",
    "    # \"SVM\": ModelType.baseline,\n",
    "    \"CatBoost\": ModelType.gbdt,\n",
    "    \"LightGBM\": ModelType.gbdt,\n",
    "    \"XGBoost\": ModelType.gbdt,\n",
    "    \"DANet\": ModelType.nn,\n",
    "    \"rtdl_FTTransformer\": ModelType.nn,\n",
    "    \"rtdl_MLP\": ModelType.nn,\n",
    "    # \"NODE\": ModelType.nn,\n",
    "    \"rtdl_ResNet\": ModelType.nn,\n",
    "    # \"SAINT\": ModelType.nn,\n",
    "    \"STG\": ModelType.nn,\n",
    "    \"TabNet\": ModelType.nn,\n",
    "    # \"TabTransformer\": ModelType.nn,\n",
    "    # \"TabPFNModel\": ModelType.nn,\n",
    "    \"VIME\": ModelType.nn,\n",
    "}"
   ],
   "id": "9ff384788cd5779f",
   "outputs": [],
   "execution_count": 4
  },
  {
   "metadata": {},
   "cell_type": "markdown",
   "source": [
    "Filter performs removal of unsuitable features\n",
    "\n",
    "Filtered files will be saved here: resources/tabzilla/filtered"
   ],
   "id": "5236bcbfc66f514b"
  },
  {
   "metadata": {
    "ExecuteTime": {
     "end_time": "2025-05-16T13:55:29.939440Z",
     "start_time": "2025-05-16T13:55:29.868206Z"
    }
   },
   "cell_type": "code",
   "source": [
    "md_filter = TabzillaFilter(\n",
    "    features_folder=\"formatted\",\n",
    "    metrics_folder=\"formatted\",\n",
    "    nan_threshold=0.5,\n",
    "    fill_func=\"mean\",\n",
    "    funcs_to_exclude=[\n",
    "        \"count\",\n",
    "        \"histogram\",\n",
    "        \"iq_range\",\n",
    "        \"median\",\n",
    "        \"quantiles\",\n",
    "        \"range\",\n",
    "    ],\n",
    "    models_list=list(models.keys()),\n",
    "    test_mode=False,\n",
    "    value_threshold=1e6,\n",
    ")\n",
    "\n",
    "filtered_features = md_filter.handle_features(to_rewrite=to_rewrite)\n",
    "filtered_metrics = md_filter.handle_metrics(to_rewrite=to_rewrite)\n",
    "print(filtered_features.shape)\n",
    "print(filtered_metrics.shape)"
   ],
   "id": "d78ac3880c1bea51",
   "outputs": [
    {
     "name": "stdout",
     "output_type": "stream",
     "text": [
      "File D:\\python_projects\\meta-select\\resources\\tabzilla\\filtered\\features.csv already exists. Skipping...\n",
      "File D:\\python_projects\\meta-select\\resources\\tabzilla\\filtered\\metrics.csv already exists. Skipping...\n",
      "(165, 220)\n",
      "(1778, 19)\n"
     ]
    }
   ],
   "execution_count": 5
  },
  {
   "metadata": {},
   "cell_type": "markdown",
   "source": [
    "Target builder creates target with specific strategy (rank of absolute or relative performance, difference between best performing models)\n",
    "\n",
    "Targets will be saved here: resources/tabzilla/target"
   ],
   "id": "87e95c082e86378c"
  },
  {
   "metadata": {
    "ExecuteTime": {
     "end_time": "2025-05-16T13:55:31.259149Z",
     "start_time": "2025-05-16T13:55:31.221136Z"
    }
   },
   "cell_type": "code",
   "source": [
    "raw_builder = TargetRawBuilder(\n",
    "    md_source=md_source,\n",
    "    features_folder=\"filtered\",\n",
    "    metrics_folder=\"filtered\",\n",
    "    metric_name=metric_name,\n",
    ")\n",
    "\n",
    "abs_perf_builder = TargetPerfBuilder(\n",
    "    md_source=md_source,\n",
    "    features_folder=\"filtered\",\n",
    "    metrics_folder=\"filtered\",\n",
    "    metric_name=metric_name,\n",
    "    perf_type=\"abs\",\n",
    "    n_bins=2,\n",
    "    strategy=\"quantile\",\n",
    "    test_mode=False,\n",
    ")\n",
    "\n",
    "rel_perf_builder = TargetPerfBuilder(\n",
    "    md_source=md_source,\n",
    "    features_folder=\"filtered\",\n",
    "    metrics_folder=\"filtered\",\n",
    "    metric_name=metric_name,\n",
    "    perf_type=\"rel\",\n",
    "    n_bins=2,\n",
    "    strategy=\"quantile\",\n",
    "    test_mode=False,\n",
    ")\n",
    "\n",
    "diff_builder = TargetDiffBuilder(\n",
    "    classes=[t.value for t in ModelType],\n",
    "    model_classes=models,\n",
    "    md_source=md_source,\n",
    "    features_folder=\"filtered\",\n",
    "    metrics_folder=\"filtered\",\n",
    "    metric_name=metric_name,\n",
    "    test_mode=False,\n",
    ")\n",
    "\n",
    "raw_target = raw_builder.handle_metrics(to_rewrite=to_rewrite)\n",
    "# abs_target = abs_perf_builder.handle_metrics(to_rewrite=to_rewrite)\n",
    "# rel_target = rel_perf_builder.handle_metrics(to_rewrite=to_rewrite)\n",
    "# diff_target = diff_builder.handle_metrics(to_rewrite=to_rewrite)\n",
    "print(raw_target.shape)\n",
    "# print(abs_target.shape)\n",
    "# print(rel_target.shape)\n",
    "# print(diff_target.shape)"
   ],
   "id": "285ad054b61e41d4",
   "outputs": [
    {
     "name": "stdout",
     "output_type": "stream",
     "text": [
      "File D:\\python_projects\\meta-select\\resources\\tabzilla\\target\\metrics__raw.csv already exists. Skipping...\n",
      "(127, 15)\n"
     ]
    }
   ],
   "execution_count": 6
  }
 ],
 "metadata": {
  "kernelspec": {
   "display_name": "Python 3",
   "language": "python",
   "name": "python3"
  },
  "language_info": {
   "codemirror_mode": {
    "name": "ipython",
    "version": 2
   },
   "file_extension": ".py",
   "mimetype": "text/x-python",
   "name": "python",
   "nbconvert_exporter": "python",
   "pygments_lexer": "ipython2",
   "version": "2.7.6"
  }
 },
 "nbformat": 4,
 "nbformat_minor": 5
}
