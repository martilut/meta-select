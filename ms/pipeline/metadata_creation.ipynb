{
 "cells": [
  {
   "metadata": {},
   "cell_type": "markdown",
   "source": [
    "1. Download files from here: https://drive.google.com/drive/folders/1LR-ftaIeV6_KJvVz8q-xbodA-oXtJuvV?usp=sharing\n",
    "2. Place features.csv and metrics.csv to the following path from project root: resources/tabzilla/raw\n",
    "3. Run this notebook"
   ],
   "id": "a3f2312e5cbd23ca"
  },
  {
   "metadata": {},
   "cell_type": "code",
   "source": [
    "from ms.handler.data_source import TabzillaSource\n",
    "from ms.metadataset.data_formatter import TabzillaFormatter\n",
    "from ms.metadataset.data_filter import TabzillaFilter\n",
    "from ms.metadataset.target_builder import TargetPerfBuilder, TargetDiffBuilder\n",
    "from ms.metadataset.data_preprocessor import ScalePreprocessor, CorrelationPreprocessor\n",
    "from ms.pipeline.pipeline_constants import data_transform"
   ],
   "id": "3965f1139e6d7fc8",
   "outputs": [],
   "execution_count": null
  },
  {
   "metadata": {},
   "cell_type": "code",
   "source": [
    "md_source = TabzillaSource()\n",
    "metric_name = \"F1__test\"\n",
    "\n",
    "model_classes = {\n",
    "    \"rtdl_FTTransformer\": \"nn\",\n",
    "    \"rtdl_MLP\": \"nn\",\n",
    "    \"rtdl_ResNet\": \"nn\",\n",
    "    \"LinearModel\": \"classic\",\n",
    "    \"RandomForest\": \"classic\",\n",
    "    \"XGBoost\": \"classic\"\n",
    "}\n",
    "\n",
    "classes_names = [\"nn\", \"classic\"]"
   ],
   "id": "cadc4cb67705ae65",
   "outputs": [],
   "execution_count": null
  },
  {
   "metadata": {},
   "cell_type": "markdown",
   "source": [
    "Formatter handles raw TabZilla files performing fold values aggregation and metrics formatting.\n",
    "\n",
    "Formatted files will be saved here: resources/tabzilla/formatted"
   ],
   "id": "58d73a5c24b5a7b2"
  },
  {
   "metadata": {},
   "cell_type": "code",
   "source": [
    "formatter = TabzillaFormatter(\n",
    "        features_folder=\"raw\",\n",
    "        metrics_folder=\"raw\",\n",
    "        test_mode=False,\n",
    "    )\n",
    "formatter.handle_features(to_rewrite=False)\n",
    "formatter.handle_metrics(to_rewrite=False)"
   ],
   "id": "ec231db2ec5e88ca",
   "outputs": [],
   "execution_count": null
  },
  {
   "metadata": {},
   "cell_type": "markdown",
   "source": [
    "Filter performs removal of unsuitable features\n",
    "\n",
    "Filtered files will be saved here: resources/tabzilla/filtered"
   ],
   "id": "5236bcbfc66f514b"
  },
  {
   "metadata": {},
   "cell_type": "code",
   "source": [
    "md_filter = TabzillaFilter(\n",
    "    features_folder=\"formatted\",\n",
    "    metrics_folder=\"formatted\",\n",
    "    funcs_to_exclude=[\n",
    "        \"count\",\n",
    "        \"histogram\",\n",
    "        \"iq_range\",\n",
    "        \"median\",\n",
    "        \"quantiles\",\n",
    "        \"range\",\n",
    "    ],\n",
    "    models_list=[\"XGBoost\", \"RandomForest\", \"LinearModel\",\n",
    "                     \"rtdl_ResNet\", \"rtdl_FTTransformer\", \"rtdl_MLP\"],\n",
    "    test_mode=False,\n",
    "    value_threshold=1e6,\n",
    ")\n",
    "\n",
    "md_filter.handle_features(to_rewrite=False)\n",
    "md_filter.handle_metrics(to_rewrite=False)"
   ],
   "id": "d78ac3880c1bea51",
   "outputs": [],
   "execution_count": null
  },
  {
   "metadata": {},
   "cell_type": "markdown",
   "source": [
    "Target builder creates target with specific strategy (rank of absolute or relative performance, difference between best performing models)\n",
    "\n",
    "Targets will be saved here: resources/tabzilla/target"
   ],
   "id": "87e95c082e86378c"
  },
  {
   "metadata": {},
   "cell_type": "code",
   "source": [
    "abs_perf_builder = TargetPerfBuilder(\n",
    "    md_source=md_source,\n",
    "    features_folder=\"filtered\",\n",
    "    metrics_folder=\"filtered\",\n",
    "    metric_name=metric_name,\n",
    "    perf_type=\"abs\",\n",
    "    n_bins=2,\n",
    "    strategy=\"quantile\",\n",
    "    test_mode=False,\n",
    ")\n",
    "\n",
    "rel_perf_builder = TargetPerfBuilder(\n",
    "    md_source=md_source,\n",
    "    features_folder=\"filtered\",\n",
    "    metrics_folder=\"filtered\",\n",
    "    metric_name=metric_name,\n",
    "    perf_type=\"rel\",\n",
    "    n_bins=2,\n",
    "    strategy=\"quantile\",\n",
    "    test_mode=False,\n",
    ")\n",
    "\n",
    "diff_builder = TargetDiffBuilder(\n",
    "    classes=classes_names,\n",
    "    model_classes=model_classes,\n",
    "    md_source=md_source,\n",
    "    features_folder=\"filtered\",\n",
    "    metrics_folder=\"filtered\",\n",
    "    metric_name=metric_name,\n",
    "    test_mode=False,\n",
    ")\n",
    "\n",
    "abs_perf_builder.handle_metrics()\n",
    "rel_perf_builder.handle_metrics()\n",
    "diff_builder.handle_metrics()"
   ],
   "id": "285ad054b61e41d4",
   "outputs": [],
   "execution_count": null
  },
  {
   "metadata": {},
   "cell_type": "markdown",
   "source": [
    "Preproccesor performs data scaling with specific target. You can choose target type by passing suffix argument into preprocess method (suffix should correspond to one of the files in target folder)\n",
    "\n",
    "Preprocessed data will be saved here: resources/tabzilla/preprocessed"
   ],
   "id": "78e63cbda0158277"
  },
  {
   "metadata": {},
   "cell_type": "code",
   "source": [
    "scaler = ScalePreprocessor(\n",
    "    md_source=md_source,\n",
    "    features_folder=\"filtered\",\n",
    "    metrics_folder=\"target\",\n",
    "    to_scale=[\"power\"],\n",
    "    perf_type=\"abs\",\n",
    "    remove_outliers=False,\n",
    "    test_mode=False,\n",
    ")\n",
    "scaled_features, scaled_metrics = scaler.preprocess(\n",
    "    feature_suffix=None,\n",
    "    metrics_suffix=\"perf_abs\"\n",
    ")\n",
    "scaler.preprocess(\n",
    "    feature_suffix=None,\n",
    "    metrics_suffix=\"perf_rel\"\n",
    ")\n",
    "scaler.preprocess(\n",
    "    feature_suffix=None,\n",
    "    metrics_suffix=\"diff\"\n",
    ")"
   ],
   "id": "ae5f960e39f38159",
   "outputs": [],
   "execution_count": null
  },
  {
   "metadata": {},
   "cell_type": "code",
   "source": [
    "corr_filter = CorrelationPreprocessor(\n",
    "    md_source=md_source,\n",
    "    features_folder=\"preprocessed\",\n",
    "    metrics_folder=\"preprocessed\",\n",
    "    corr_method=\"spearman\",\n",
    "    corr_value_threshold=0.9,\n",
    "    vif_value_threshold=20000,\n",
    "    vif_count_threshold=None,\n",
    "    test_mode=False,\n",
    ")\n",
    "\n",
    "corr_features, corr_metrics = corr_filter.preprocess(\n",
    "    feature_suffix=data_transform,\n",
    "    metrics_suffix=\"perf_abs\"\n",
    ")\n",
    "corr_filter.preprocess(\n",
    "    feature_suffix=data_transform,\n",
    "    metrics_suffix=\"perf_rel\"\n",
    ")\n",
    "corr_filter.preprocess(\n",
    "    feature_suffix=data_transform,\n",
    "    metrics_suffix=\"diff\"\n",
    ")"
   ],
   "id": "9ba8de91a55b1bd",
   "outputs": [],
   "execution_count": null
  }
 ],
 "metadata": {
  "kernelspec": {
   "display_name": "Python 3",
   "language": "python",
   "name": "python3"
  },
  "language_info": {
   "codemirror_mode": {
    "name": "ipython",
    "version": 2
   },
   "file_extension": ".py",
   "mimetype": "text/x-python",
   "name": "python",
   "nbconvert_exporter": "python",
   "pygments_lexer": "ipython2",
   "version": "2.7.6"
  }
 },
 "nbformat": 4,
 "nbformat_minor": 5
}
